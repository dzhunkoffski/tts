{
 "cells": [
  {
   "cell_type": "code",
   "execution_count": 1,
   "metadata": {},
   "outputs": [],
   "source": [
    "%load_ext autoreload\n",
    "%autoreload 2"
   ]
  },
  {
   "cell_type": "code",
   "execution_count": 2,
   "metadata": {},
   "outputs": [],
   "source": [
    "from tts.datasets.ljspeech_dataset import LJSpeechDataset\n",
    "\n",
    "dataset = LJSpeechDataset(\n",
    "    dataset_path='data/LJSpeech-1.1', is_train=True, train_size=1.0, text_cleaners=['english_cleaners'],\n",
    "    mel_spec_path='mels', alignment_path='alignments', sr=16000\n",
    ")"
   ]
  },
  {
   "cell_type": "code",
   "execution_count": 3,
   "metadata": {},
   "outputs": [],
   "source": [
    "batch = dataset[2]"
   ]
  },
  {
   "cell_type": "code",
   "execution_count": 4,
   "metadata": {},
   "outputs": [
    {
     "data": {
      "text/plain": [
       "torch.Size([80, 1733])"
      ]
     },
     "execution_count": 4,
     "metadata": {},
     "output_type": "execute_result"
    }
   ],
   "source": [
    "import torch\n",
    "torch.nn.functional.pad(dataset[2]['mel_target'], pad=(0, 900), mode='constant', value=0).size()"
   ]
  },
  {
   "cell_type": "code",
   "execution_count": 5,
   "metadata": {},
   "outputs": [
    {
     "data": {
      "text/plain": [
       "torch.Size([80, 833])"
      ]
     },
     "execution_count": 5,
     "metadata": {},
     "output_type": "execute_result"
    }
   ],
   "source": [
    "dataset[2]['mel_target'].size()"
   ]
  },
  {
   "cell_type": "code",
   "execution_count": 6,
   "metadata": {},
   "outputs": [],
   "source": [
    "batch['text'] = batch['text'].unsqueeze(0)\n",
    "batch['duration'] = batch['duration'].unsqueeze(0)\n",
    "batch['mel_target'] = batch['mel_target'].unsqueeze(0)"
   ]
  },
  {
   "cell_type": "code",
   "execution_count": 7,
   "metadata": {},
   "outputs": [
    {
     "data": {
      "text/plain": [
       "{'raw_text': 'For although the Chinese took impressions from wood blocks engraved in relief for centuries before the woodcutters of the Netherlands, by a similar proces',\n",
       " 'text': tensor([[43, 52, 55, 11, 38, 49, 57, 45, 52, 58, 44, 45, 11, 57, 45, 42, 11, 40,\n",
       "          45, 46, 51, 42, 56, 42, 11, 57, 52, 52, 48, 11, 46, 50, 53, 55, 42, 56,\n",
       "          56, 46, 52, 51, 56, 11, 43, 55, 52, 50, 11, 60, 52, 52, 41, 11, 39, 49,\n",
       "          52, 40, 48, 56, 11, 42, 51, 44, 55, 38, 59, 42, 41, 11, 46, 51, 11, 55,\n",
       "          42, 49, 46, 42, 43, 11, 43, 52, 55, 11, 40, 42, 51, 57, 58, 55, 46, 42,\n",
       "          56, 11, 39, 42, 43, 52, 55, 42, 11, 57, 45, 42, 11, 60, 52, 52, 41, 40,\n",
       "          58, 57, 57, 42, 55, 56, 11, 52, 43, 11, 57, 45, 42, 11, 51, 42, 57, 45,\n",
       "          42, 55, 49, 38, 51, 41, 56,  6, 11, 39, 62, 11, 38, 11, 56, 46, 50, 46,\n",
       "          49, 38, 55, 11, 53, 55, 52, 40, 42, 56]]),\n",
       " 'duration': tensor([[ 1,  4,  8,  4, 10,  1,  2,  1, 11,  0,  0,  4,  0,  3,  0,  4,  2,  5,\n",
       "           4, 15,  5, 16,  2,  9,  0,  3,  4,  3,  5,  1, 10,  4,  5,  4,  8,  2,\n",
       "           3,  3,  5, 11, 10,  8,  7,  2,  4,  7,  0, 10,  4,  1,  6,  0,  8,  7,\n",
       "          16,  2,  8, 13, 29,  6,  5,  5,  6, 17,  6,  0,  5,  0,  8,  4,  0,  4,\n",
       "           5,  7, 10,  1, 10,  6,  4,  0,  5,  0, 12, 10,  3,  3,  4,  7,  7,  3,\n",
       "           7,  0,  4,  5,  9,  5,  1,  3,  3,  2,  1,  2,  3,  6,  3,  4,  5,  6,\n",
       "          15,  1,  0,  4, 10,  7,  0,  6,  5,  0,  4,  0,  4,  2,  6,  8,  2,  2,\n",
       "           2,  6,  6, 11,  7,  2, 10, 16, 13,  2, 11,  1,  7,  0, 11,  4,  4,  4,\n",
       "           6,  3,  6,  0,  6,  6, 13, 10, 12,  8]], dtype=torch.int32),\n",
       " 'mel_target': tensor([[[-8.5495, -8.2685, -8.6421,  ..., -7.4538, -7.5008, -6.5141],\n",
       "          [-7.5030, -7.4359, -7.5968,  ..., -7.1632, -7.3558, -6.5252],\n",
       "          [-6.1300, -6.4027, -6.7162,  ..., -6.7940, -7.0461, -7.2345],\n",
       "          ...,\n",
       "          [-5.3136, -4.8807, -5.2312,  ..., -6.4740, -6.9076, -7.3200],\n",
       "          [-4.8725, -4.5233, -4.9753,  ..., -6.4573, -6.8114, -7.0957],\n",
       "          [-5.1428, -4.6071, -4.8014,  ..., -7.8065, -7.8546, -8.0541]]])}"
      ]
     },
     "execution_count": 7,
     "metadata": {},
     "output_type": "execute_result"
    }
   ],
   "source": [
    "batch"
   ]
  },
  {
   "cell_type": "code",
   "execution_count": 8,
   "metadata": {},
   "outputs": [
    {
     "data": {
      "text/plain": [
       "torch.Size([1, 80, 833])"
      ]
     },
     "execution_count": 8,
     "metadata": {},
     "output_type": "execute_result"
    }
   ],
   "source": [
    "batch['mel_target'].size()"
   ]
  },
  {
   "cell_type": "code",
   "execution_count": 9,
   "metadata": {},
   "outputs": [
    {
     "name": "stderr",
     "output_type": "stream",
     "text": [
      "/home/dzhunk/University/dl-audio/tts/.venv/lib/python3.8/site-packages/torch/serialization.py:1101: SourceChangeWarning: source code of class 'glow.WaveGlow' has changed. Saved a reverse patch to WaveGlow.patch. Run `patch -p0 < WaveGlow.patch` to revert your changes.\n",
      "  warnings.warn(msg, SourceChangeWarning)\n",
      "/home/dzhunk/University/dl-audio/tts/.venv/lib/python3.8/site-packages/torch/serialization.py:1101: SourceChangeWarning: source code of class 'torch.nn.modules.conv.ConvTranspose1d' has changed. Tried to save a patch, but couldn't create a writable file ConvTranspose1d.patch. Make sure it doesn't exist and your working directory is writable.\n",
      "  warnings.warn(msg, SourceChangeWarning)\n",
      "/home/dzhunk/University/dl-audio/tts/.venv/lib/python3.8/site-packages/torch/serialization.py:1101: SourceChangeWarning: source code of class 'torch.nn.modules.container.ModuleList' has changed. Saved a reverse patch to ModuleList.patch. Run `patch -p0 < ModuleList.patch` to revert your changes.\n",
      "  warnings.warn(msg, SourceChangeWarning)\n",
      "/home/dzhunk/University/dl-audio/tts/.venv/lib/python3.8/site-packages/torch/serialization.py:1101: SourceChangeWarning: source code of class 'glow.WN' has changed. Saved a reverse patch to WN.patch. Run `patch -p0 < WN.patch` to revert your changes.\n",
      "  warnings.warn(msg, SourceChangeWarning)\n",
      "/home/dzhunk/University/dl-audio/tts/.venv/lib/python3.8/site-packages/torch/serialization.py:1101: SourceChangeWarning: source code of class 'torch.nn.modules.conv.Conv1d' has changed. Tried to save a patch, but couldn't create a writable file Conv1d.patch. Make sure it doesn't exist and your working directory is writable.\n",
      "  warnings.warn(msg, SourceChangeWarning)\n",
      "/home/dzhunk/University/dl-audio/tts/.venv/lib/python3.8/site-packages/torch/serialization.py:1101: SourceChangeWarning: source code of class 'glow.Invertible1x1Conv' has changed. Saved a reverse patch to Invertible1x1Conv.patch. Run `patch -p0 < Invertible1x1Conv.patch` to revert your changes.\n",
      "  warnings.warn(msg, SourceChangeWarning)\n"
     ]
    }
   ],
   "source": [
    "from tts.model.fastspeech1 import FastSpeechV1\n",
    "from tts.text.symbols import symbols\n",
    "\n",
    "model = FastSpeechV1(\n",
    "    max_len=5000, vocab_size=len(symbols), pad_idx=0, n_blocks=3, n_heads=2, fft_kernel=3, lr_kernel=3, embed_dim=32, n_mels=80 \n",
    ")"
   ]
  },
  {
   "cell_type": "code",
   "execution_count": 10,
   "metadata": {},
   "outputs": [],
   "source": [
    "import torch\n",
    "device = torch.device(\"cuda\" if torch.cuda.is_available() else \"cpu\")"
   ]
  },
  {
   "cell_type": "code",
   "execution_count": 11,
   "metadata": {},
   "outputs": [],
   "source": [
    "batch['text'] = batch['text'].to(device)\n",
    "batch['duration'] = batch['duration'].to(device)\n",
    "batch['mel_target'] = batch['mel_target'].to(device)\n",
    "model = model.to(device)"
   ]
  },
  {
   "cell_type": "code",
   "execution_count": 12,
   "metadata": {},
   "outputs": [],
   "source": [
    "o=model(**batch)"
   ]
  },
  {
   "cell_type": "code",
   "execution_count": 14,
   "metadata": {},
   "outputs": [
    {
     "data": {
      "text/plain": [
       "torch.Size([1, 819, 80])"
      ]
     },
     "execution_count": 14,
     "metadata": {},
     "output_type": "execute_result"
    }
   ],
   "source": [
    "o['pred_mel'].size()"
   ]
  },
  {
   "cell_type": "code",
   "execution_count": 15,
   "metadata": {},
   "outputs": [
    {
     "data": {
      "text/plain": [
       "torch.Size([1, 154])"
      ]
     },
     "execution_count": 15,
     "metadata": {},
     "output_type": "execute_result"
    }
   ],
   "source": [
    "batch['duration'].size()"
   ]
  },
  {
   "cell_type": "code",
   "execution_count": 16,
   "metadata": {},
   "outputs": [
    {
     "name": "stderr",
     "output_type": "stream",
     "text": [
      "/home/dzhunk/University/dl-audio/tts/glow.py:270: UserWarning: The torch.cuda.*DtypeTensor constructors are no longer recommended. It's best to use methods such as torch.tensor(data, dtype=*, device='cuda') to create tensors. (Triggered internally at ../torch/csrc/tensor/python_tensor.cpp:83.)\n",
      "  audio = torch.cuda.FloatTensor(spect.size(0),\n"
     ]
    },
    {
     "data": {
      "text/plain": [
       "array([  2043,  32334,  10208, ..., -18178,  -8104,  27914], dtype=int16)"
      ]
     },
     "execution_count": 16,
     "metadata": {},
     "output_type": "execute_result"
    }
   ],
   "source": [
    "model.text2voice(text='Demo speech.', dataset=dataset)"
   ]
  },
  {
   "cell_type": "code",
   "execution_count": 4,
   "metadata": {},
   "outputs": [],
   "source": [
    "import scipy\n",
    "\n",
    "sr, data = scipy.io.wavfile.read('/home/dzhunk/University/dl-audio/tts/data/LJSpeech-1.1/wavs/LJ001-0001.wav')"
   ]
  }
 ],
 "metadata": {
  "kernelspec": {
   "display_name": ".venv",
   "language": "python",
   "name": "python3"
  },
  "language_info": {
   "codemirror_mode": {
    "name": "ipython",
    "version": 3
   },
   "file_extension": ".py",
   "mimetype": "text/x-python",
   "name": "python",
   "nbconvert_exporter": "python",
   "pygments_lexer": "ipython3",
   "version": "3.8.18"
  }
 },
 "nbformat": 4,
 "nbformat_minor": 2
}
